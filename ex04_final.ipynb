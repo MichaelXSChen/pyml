{
 "cells": [
  {
   "cell_type": "markdown",
   "metadata": {},
   "source": [
    "# Assignment 4 - dimensionality reduction\n",
    "\n",
    "This assignment focuses on two different ways for dimensionality reduction:\n",
    "* feature selection\n",
    "* feature extraction\n",
    "\n",
    "This assignment has weighting $1.5$."
   ]
  },
  {
   "cell_type": "markdown",
   "metadata": {
    "slideshow": {
     "slide_type": "slide"
    }
   },
   "source": [
    "# Sequential feature selection (50 points)\n",
    "\n",
    "There is a sample code in PML chapter 4 for sequential bardward selection (SBS) and its application to subsequent KNN classifier.\n",
    "\n",
    "Implement sequential forward selection (SFS), and compare it with sequential backward selection by plotting the accuracy versus the number of features.\n",
    "\n",
    "You can start with the sample code provided in the [slides](http://nbviewer.jupyter.org/github/1iyiwei/pyml/blob/master/code/ch04/ch04.ipynb).\n",
    "You can extend the existing SBS class to handle both forward and backward selection, or implement a separate class for SFS.\n",
    "Plot and compare the two accuracy versus number-of-features plots for SFS and SBS.\n",
    "\n",
    "Use the wine dataset as follows."
   ]
  },
  {
   "cell_type": "code",
   "execution_count": 1,
   "metadata": {
    "collapsed": false,
    "scrolled": true,
    "slideshow": {
     "slide_type": "fragment"
    }
   },
   "outputs": [],
   "source": [
    "import pandas as pd\n",
    "import numpy as np\n",
    "\n",
    "wine_data_remote = 'https://archive.ics.uci.edu/ml/machine-learning-databases/wine/wine.data'\n",
    "wine_data_local = '../datasets/wine/wine.data'\n",
    "\n",
    "df_wine = pd.read_csv(wine_data_remote,\n",
    "                      header=None)\n",
    "\n",
    "df_wine.columns = ['Class label', 'Alcohol', 'Malic acid', 'Ash',\n",
    "                   'Alcalinity of ash', 'Magnesium', 'Total phenols',\n",
    "                   'Flavanoids', 'Nonflavanoid phenols', 'Proanthocyanins',\n",
    "                   'Color intensity', 'Hue', 'OD280/OD315 of diluted wines',\n",
    "                   'Proline']\n",
    "\n",
    "#print('Class labels', np.unique(df_wine['Class label']))\n",
    "#df_wine.head()"
   ]
  },
  {
   "cell_type": "code",
   "execution_count": 2,
   "metadata": {
    "collapsed": false,
    "slideshow": {
     "slide_type": "fragment"
    }
   },
   "outputs": [
    {
     "name": "stdout",
     "output_type": "stream",
     "text": [
      "13\n"
     ]
    }
   ],
   "source": [
    "from sklearn import __version__ as skv\n",
    "from distutils.version import LooseVersion as CheckVersion\n",
    "if CheckVersion(skv) < '0.18':\n",
    "    from sklearn.cross_validation import train_test_split\n",
    "else:\n",
    "    from sklearn.model_selection import train_test_split\n",
    "\n",
    "X, y = df_wine.iloc[:, 1:].values, df_wine.iloc[:, 0].values\n",
    "\n",
    "X_train, X_test, y_train, y_test = \\\n",
    "    train_test_split(X, y, test_size=0.3, random_state=0)\n",
    "\n",
    "print(X.shape[1])"
   ]
  },
  {
   "cell_type": "code",
   "execution_count": 3,
   "metadata": {
    "collapsed": true,
    "slideshow": {
     "slide_type": "fragment"
    }
   },
   "outputs": [],
   "source": [
    "from sklearn.preprocessing import StandardScaler\n",
    "\n",
    "stdsc = StandardScaler()\n",
    "X_train_std = stdsc.fit_transform(X_train)\n",
    "X_test_std = stdsc.transform(X_test)"
   ]
  },
  {
   "cell_type": "markdown",
   "metadata": {
    "slideshow": {
     "slide_type": "subslide"
    }
   },
   "source": [
    "## Answer"
   ]
  },
  {
   "cell_type": "markdown",
   "metadata": {
    "slideshow": {
     "slide_type": "fragment"
    }
   },
   "source": [
    "Implement your sequential backward selection class here, either as a separate class or by extending the SBS class that can handle both forward and backward selection (via an input parameter to indicate the direction)."
   ]
  },
  {
   "cell_type": "markdown",
   "metadata": {
    "slideshow": {
     "slide_type": "fragment"
    }
   },
   "source": [
    "Apply your sequential forward/backward selection code to the KNN classifier with the wine data set, and plot the accuracy versus number-of-features curves for both.\n",
    "Describe the similarities and differences you can find, e.g. \n",
    "* do the two methods agree on the optimal number of features?\n",
    "* do the two methods have similar accuracy scores for each number of features?\n",
    "* etc."
   ]
  },
  {
   "cell_type": "code",
   "execution_count": 4,
   "metadata": {
    "collapsed": false,
    "slideshow": {
     "slide_type": "fragment"
    }
   },
   "outputs": [],
   "source": [
    "from sklearn.base import clone\n",
    "from itertools import combinations\n",
    "import numpy as np\n",
    "from sklearn.metrics import accuracy_score\n",
    "\n",
    "\n",
    "class SBS():\n",
    "    def __init__(self, estimator, k_features, scoring=accuracy_score,\n",
    "                 test_size=0.25, random_state=1):\n",
    "        self.scoring = scoring\n",
    "        self.estimator = clone(estimator)\n",
    "        self.k_features = k_features\n",
    "        self.test_size = test_size\n",
    "        self.random_state = random_state\n",
    "\n",
    "    def fit(self, X, y):\n",
    "        \n",
    "        X_train, X_test, y_train, y_test = \\\n",
    "            train_test_split(X, y, test_size=self.test_size,\n",
    "                             random_state=self.random_state)\n",
    "\n",
    "        dim = X_train.shape[1]\n",
    "        self.indices_ = tuple(range(dim))\n",
    "        self.subsets_ = [self.indices_]\n",
    "        score = self._calc_score(X_train, y_train, \n",
    "                                 X_test, y_test, self.indices_)\n",
    "        self.scores_ = [score]\n",
    "\n",
    "        while dim > self.k_features:\n",
    "            scores = []\n",
    "            subsets = []\n",
    "\n",
    "            for p in combinations(self.indices_, r=dim - 1):\n",
    "                score = self._calc_score(X_train, y_train, \n",
    "                                         X_test, y_test, p)\n",
    "                scores.append(score)\n",
    "                subsets.append(p)\n",
    "\n",
    "            best = np.argmax(scores)\n",
    "            self.indices_ = subsets[best]\n",
    "            self.subsets_.append(self.indices_)\n",
    "            dim -= 1\n",
    "\n",
    "            self.scores_.append(scores[best])\n",
    "        self.k_score_ = self.scores_[-1]\n",
    "\n",
    "        return self\n",
    "\n",
    "    def transform(self, X):\n",
    "        return X[:, self.indices_]\n",
    "\n",
    "    def _calc_score(self, X_train, y_train, X_test, y_test, indices):\n",
    "        self.estimator.fit(X_train[:, indices], y_train)\n",
    "        y_pred = self.estimator.predict(X_test[:, indices])\n",
    "        score = self.scoring(y_test, y_pred)\n",
    "        return score"
   ]
  },
  {
   "cell_type": "code",
   "execution_count": 5,
   "metadata": {
    "collapsed": false
   },
   "outputs": [],
   "source": [
    "class SFS():\n",
    "    def __init__(self, estimator, k_features, scoring=accuracy_score,\n",
    "                 test_size=0.25, random_state=1):\n",
    "        self.scoring = scoring\n",
    "        self.estimator = clone(estimator)\n",
    "        self.k_features = k_features\n",
    "        self.test_size = test_size\n",
    "        self.random_state = random_state\n",
    "    \n",
    "    def fit(self, X, y):\n",
    "        X_train, X_test, y_train, y_test = \\\n",
    "            train_test_split(X, y, test_size=self.test_size,\n",
    "                             random_state=self.random_state)\n",
    "        dim = 0\n",
    "        selected = []\n",
    "        remaining = list(range(X_train.shape[1]))\n",
    "        self.scores_ = []\n",
    "        self.subsets_ = []\n",
    "        while dim < self.k_features:\n",
    "            #print(\"dim\", dim)\n",
    "            #print(\"selected\", selected)\n",
    "            #print(\"remaining\", remaining)\n",
    "            scores = []\n",
    "            selections = []\n",
    "            for f in remaining:\n",
    "                score = self._calc_score(X_train, y_train,\n",
    "                                        X_test, y_test, selected+[f])\n",
    "                scores.append(score)\n",
    "                selections.append(f)\n",
    "            best = np.argmax(scores)\n",
    "            selected.append(selections[best])\n",
    "            remaining = remaining[:best]+remaining[best+1:]\n",
    "            \n",
    "            self.scores_.append(scores[best])\n",
    "            #print(\"scores\", self.scores_)\n",
    "            self.subsets_.append(selected[:])\n",
    "            #print(\"sub\", self.subsets_)\n",
    "            dim += 1\n",
    "            \n",
    "        self.k_score = self.scores_[-1]\n",
    "        return self\n",
    "    \n",
    "    def transform(self, X):\n",
    "        return X[:, self.selected_]\n",
    "        \n",
    "        \n",
    "    def _calc_score(self, X_train, y_train, X_test, y_test, selected):\n",
    "        self.estimator.fit(X_train[:,selected], y_train)\n",
    "        y_pred = self.estimator.predict(X_test[:,selected])\n",
    "        score = self.scoring(y_test, y_pred)\n",
    "        return score"
   ]
  },
  {
   "cell_type": "code",
   "execution_count": 6,
   "metadata": {
    "collapsed": false,
    "scrolled": true
   },
   "outputs": [
    {
     "data": {
      "image/png": "[encoded data removed]",
      "text/plain": [
       "<matplotlib.figure.Figure at 0x7f82acc92da0>"
      ]
     },
     "metadata": {},
     "output_type": "display_data"
    }
   ],
   "source": [
    "import matplotlib.pyplot as plt\n",
    "from sklearn.neighbors import KNeighborsClassifier\n",
    "\n",
    "knn = KNeighborsClassifier(n_neighbors=2)\n",
    "\n",
    "# selecting features\n",
    "sbs = SBS(knn, k_features=1)\n",
    "sbs.fit(X_train_std, y_train)\n",
    "\n",
    "sfs = SFS(knn, k_features=X_train_std.shape[1])\n",
    "sfs.fit(X_train_std, y_train)\n",
    "\n",
    "\n",
    "k_feat = [len(k) for k in sbs.subsets_]\n",
    "\n",
    "plt.plot(k_feat, sbs.scores_, marker='o', label = 'SBS')\n",
    "\n",
    "k_feat_sfs = [len(k) for k in sfs.subsets_]\n",
    "\n",
    "plt.plot(k_feat_sfs, sfs.scores_, marker='x', label='SFS')\n",
    "plt.ylim([0.7, 1.1])\n",
    "plt.ylabel('Accuracy')\n",
    "plt.xlabel('Number of features')\n",
    "plt.grid()\n",
    "plt.legend(loc='best')\n",
    "plt.tight_layout()\n",
    "# plt.savefig('./sbs.png', dpi=300)\n",
    "plt.show()"
   ]
  },
  {
   "cell_type": "markdown",
   "metadata": {
    "slideshow": {
     "slide_type": "slide"
    }
   },
   "source": [
    "# PCA versus LDA (50 points)\n",
    "\n",
    "We have learned two different methods for feature extraction, PCA (unsupervised) and LDA (supervised).\n",
    "\n",
    "Under what circumstances would PCA and LDA produce very different results? \n",
    "\n",
    "Provide one example dataset in 2D, analyze it via PCA and LDA, and plot it with the PCA and LDA components.\n",
    "\n",
    "You can use code from the scikit-learn library."
   ]
  },
  {
   "cell_type": "markdown",
   "metadata": {
    "slideshow": {
     "slide_type": "subslide"
    }
   },
   "source": [
    "## Answer"
   ]
  },
  {
   "cell_type": "code",
   "execution_count": 7,
   "metadata": {
    "collapsed": true,
    "slideshow": {
     "slide_type": "skip"
    }
   },
   "outputs": [],
   "source": [
    "%matplotlib inline"
   ]
  },
  {
   "cell_type": "markdown",
   "metadata": {
    "slideshow": {
     "slide_type": "fragment"
    }
   },
   "source": [
    "### Part 1 Create my dataset\n",
    "Write code to produce your own dataset in 2D.\n",
    "You are free to design relative characteristics like the number of class, the number of samples for each class, as long as your dataset could be analyzed via PCA and LDA."
   ]
  },
  {
   "cell_type": "code",
   "execution_count": 11,
   "metadata": {
    "collapsed": false
   },
   "outputs": [],
   "source": [
    "import random\n",
    "import numpy as np\n",
    "\n",
    "size = 50\n",
    "mydata_A = np.zeros((size, 3))\n",
    "for i in range(0, size):\n",
    "\n",
    "    mydata_A[i, 0] = 10*i-10 + random.uniform(0, 30)\n",
    "    mydata_A[i, 1] = 0 + random.uniform(0, 20)\n",
    "    mydata_A[i, 2] = 0 \n",
    "\n",
    "mydata_B = np.zeros((size, 3))\n",
    "for i in range(0, size):\n",
    "    \n",
    "    mydata_B[i, 0] = 10*i-10 + random.uniform(0, 30)\n",
    "    mydata_B[i, 1] = 30 + random.uniform(0, 20)\n",
    "    mydata_B[i, 2] = 1 \n",
    "\n",
    "mydata_C = np.zeros((size, 3))\n",
    "for i in range(0, size):\n",
    "    mydata_C[i, 0] = 10*i-10 + random.uniform(0, 30)\n",
    "    mydata_C[i, 1] = 60 + random.uniform(0, 20)\n",
    "    mydata_C[i, 2] = 2 \n",
    "    \n",
    "combined_data = np.concatenate([mydata_A,mydata_B,mydata_C])\n",
    "#print(mydata_A) \n",
    "\n"
   ]
  },
  {
   "cell_type": "markdown",
   "metadata": {
    "slideshow": {
     "slide_type": "fragment"
    }
   },
   "source": [
    "### Part 2 Show my dataset\n",
    "\n",
    "Plot your data set, with different classes in different marker colors and/or shapes.\n",
    "\n",
    "You can write your own plot code or use existing library plot code."
   ]
  },
  {
   "cell_type": "code",
   "execution_count": 12,
   "metadata": {
    "collapsed": false
   },
   "outputs": [
    {
     "data": {
      "image/png": "[encoded data removed]",
      "text/plain": [
       "<matplotlib.figure.Figure at 0x7f82a7a37898>"
      ]
     },
     "metadata": {},
     "output_type": "display_data"
    },
    {
     "name": "stdout",
     "output_type": "stream",
     "text": [
      "(150, 3)\n"
     ]
    }
   ],
   "source": [
    "\n",
    "plt.scatter(mydata_A[:,0], mydata_A[:,1], marker='x', color='r')\n",
    "plt.scatter(mydata_B[:,0], mydata_B[:,1], marker='o', color='g')\n",
    "plt.scatter(mydata_C[:,0], mydata_C[:,1], marker='s', color= 'b')\n",
    "plt.axes().set_aspect('equal', 'datalim')\n",
    "plt.show()\n",
    "print(combined_data.shape)"
   ]
  },
  {
   "cell_type": "markdown",
   "metadata": {
    "slideshow": {
     "slide_type": "fragment"
    }
   },
   "source": [
    "### Part 3 Apply PCA and LDA\n",
    "Apply your dataset through PCA and LDA, and plot the projected data using the same plot code.\n",
    "Explain the differences you notice, and how you manage to construct your dataset to achieve such differences.\n",
    "\n",
    "You can use the PCA and LDA code from the scikit-learn library."
   ]
  },
  {
   "cell_type": "code",
   "execution_count": 13,
   "metadata": {
    "collapsed": false
   },
   "outputs": [
    {
     "name": "stdout",
     "output_type": "stream",
     "text": [
      "PCA result:\n"
     ]
    },
    {
     "data": {
      "image/png": "[encoded data removed]",
      "text/plain": [
       "<matplotlib.figure.Figure at 0x7f82a473c5c0>"
      ]
     },
     "metadata": {},
     "output_type": "display_data"
    },
    {
     "data": {
      "image/png": "[encoded data removed]",
      "text/plain": [
       "<matplotlib.figure.Figure at 0x7f82a7588278>"
      ]
     },
     "metadata": {},
     "output_type": "display_data"
    }
   ],
   "source": [
    "from sklearn.decomposition import PCA\n",
    "from sklearn.discriminant_analysis import LinearDiscriminantAnalysis as LDA\n",
    "\n",
    "pca = PCA(n_components=2)\n",
    "data_pca = pca.fit_transform(combined_data[:, :2])\n",
    "\n",
    "print(\"PCA result:\")\n",
    "#print(pca.components_)\n",
    "plt.scatter(data_pca[:size, 0], data_pca[:size, 1], marker='x', color= 'r')\n",
    "plt.scatter(data_pca[size:size*2, 0], data_pca[size:size*2, 1], marker='o', color = 'g')\n",
    "plt.scatter(data_pca[size*2:, 0], data_pca[size*2:, 1], marker='s', color= 'b')\n",
    "plt.axes().set_aspect('equal', 'datalim')\n",
    "plt.show()\n",
    "\n",
    "#plt.scatter(data_pca[:200, 0], [0]*200, marker='x')\n",
    "#plt.scatter(data_pca[200:400, 0], [1]*200, marker='o')\n",
    "#plt.scatter(data_pca[400:, 0], [2]*200, marker='s')\n",
    "#plt.show()\n",
    "\n",
    "\n",
    "lda = LDA(n_components=2)\n",
    "data_lda = lda.fit_transform(combined_data[:,:2], combined_data[:,2])\n",
    "#print(combined_data[:,2])\n",
    "#print(data_lda.shape)\n",
    "plt.scatter(data_lda[:size, 0], data_lda[:size, 1], marker='x', color= 'r')\n",
    "plt.scatter(data_lda[size:2*size, 0], data_lda[size:2*size, 1], marker='o', color = 'g')\n",
    "plt.scatter(data_lda[2*size:, 0], data_lda[2*size:, 1], marker='s', color = 'b')\n",
    "plt.show()\n",
    "\n",
    "\n",
    "#plt.scatter(data_pca[:200, 0], [0]*200, marker='x')\n",
    "#plt.scatter(data_pca[200:400, 0], [1]*200, marker='o')\n",
    "#plt.scatter(data_pca[400:, 0], [2]*200, marker='s')\n",
    "#plt.show()\n"
   ]
  },
  {
   "cell_type": "markdown",
   "metadata": {
    "collapsed": false
   },
   "source": [
    "### 4 Discussion\n",
    "\n",
    "Intuitively, points on two parallel **long and near lines** , with each representing one class will be enough for this question. By \"long and near\", it guarantees that the variation *through the direction* is the biggest, and the direction orthogonal to the direction of the lines is the best direction for seperating them. \n",
    "\n",
    "However, because of the limitation of the library (or my limited knowledge to use the library), I need to contstruct three class with some noise, so I got my data set, as shown in output 9. \n",
    "\n",
    "\n",
    "For **PCA**, because actually we are projecting 2D into 2D, PC1 is actually the direction that the data varied most. Obviously, x direction of the original is the best\n",
    "\n",
    "For **LDA**, LD1 direction is the direction that seperate different classes best. Obviously, it should be y direction of the original dataset. \n",
    "\n"
   ]
  },
  {
   "cell_type": "code",
   "execution_count": null,
   "metadata": {
    "collapsed": true
   },
   "outputs": [],
   "source": []
  }
 ],
 "metadata": {
  "anaconda-cloud": {},
  "kernelspec": {
   "display_name": "Python [conda root]",
   "language": "python",
   "name": "conda-root-py"
  },
  "language_info": {
   "codemirror_mode": {
    "name": "ipython",
    "version": 3
   },
   "file_extension": ".py",
   "mimetype": "text/x-python",
   "name": "python",
   "nbconvert_exporter": "python",
   "pygments_lexer": "ipython3",
   "version": "3.5.2"
  },
  "name": "_merged"
 },
 "nbformat": 4,
 "nbformat_minor": 0
}

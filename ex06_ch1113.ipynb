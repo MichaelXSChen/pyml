{
 "cells": [
  {
   "cell_type": "markdown",
   "metadata": {
    "slideshow": {
     "slide_type": "slide"
    }
   },
   "source": [
    "# Assignment 6\n",
    "\n",
    "This assignment has weighting $3.5$.\n",
    "The first question about clustering has 35%, and the second question about tiny image classification has 65%.\n",
    "\n",
    "This is a challenging assignment, so I recommend you start early."
   ]
  },
  {
   "cell_type": "markdown",
   "metadata": {
    "slideshow": {
     "slide_type": "slide"
    }
   },
   "source": [
    "# Clustering for handwritten digits\n",
    "\n",
    "Supervised learning requires labeled data, which can be expensive to acquire.\n",
    "For example, a dataset with $N$ samples for classification will require manual labeling $N$ times.\n",
    "\n",
    "One way to ameliorate this issue is to perform clustering of the raw data samples first, followed by manual inspection and labeling of only a few samples.\n",
    "Recall that clustering is a form of non-supervised learning, so it does not require any class labels.\n",
    "\n",
    "For example, say we are given a set of scanned hand-written digit images.\n",
    "We can cluster them into 10 groups first, manually inspect and label a few images in each cluster, and propagate the label towards the rest of all (unlabeled) samples in each cluster.\n",
    "\n",
    "The accuracy of such semi-automatic labeling depends on the accuracy of the clustering.\n",
    "If each cluster (0 to 9) corresponds exactly to hand-written digits 0-9, we are fine.\n",
    "Otherwise, we have some mis-labeled data.\n",
    "\n",
    "The goal of this question is to exercise clustering of the scikit-learn digits dataset which has labels, so that we can verify our clustering accuracy.\n",
    "The specifics are as follows.\n",
    "\n",
    "You will be judged by the test accuracy of your code, and quality of descriptions of your method.\n",
    "As a reference, a simple code I (Li-Yi) wrote can achieve about 78% accuracy. Try to beat it as much as you can."
   ]
  },
  {
   "cell_type": "markdown",
   "metadata": {
    "slideshow": {
     "slide_type": "subslide"
    }
   },
   "source": [
    "## Training and test data split\n",
    "\n",
    "We will split the original dataset into training and test datasets\n",
    "* training for building our clusters\n",
    "* testing to see if the clusters can predict future data\n",
    "\n",
    "## Accuracy\n",
    "What is your clustering accuracy (comparing cluster labels with the ground truth labels), and what are the properties of mis-clustered samples?\n",
    "\n",
    "## Data preprocessing\n",
    "Would the original features (pixels) work well, or we need further processing like scaling/standardization or dimensionality-reduction, before clustering?\n",
    "\n",
    "## Models and hyper-parameters\n",
    "\n",
    "Let's focus on k-means clustering, as hierarchical and density-based clustering do not provide the predict() method under scikit-learn.\n",
    "\n",
    "What is the best test performance you can achieve with which hyper-parameters (for k-means, standard scalar, and dimensionality reduction)?\n",
    "\n",
    "### Hint\n",
    "We have learned Pipeline and GridSearchCV for cross validation and hyper-parameter tuning."
   ]
  },
  {
   "cell_type": "code",
   "execution_count": 1,
   "metadata": {
    "collapsed": false,
    "slideshow": {
     "slide_type": "skip"
    }
   },
   "outputs": [
    {
     "name": "stdout",
     "output_type": "stream",
     "text": [
      "last updated: 2016-12-14 \n",
      "\n",
      "CPython 3.5.2\n",
      "IPython 5.1.0\n",
      "\n",
      "numpy 1.11.1\n",
      "pandas 0.18.1\n",
      "matplotlib 1.5.3\n",
      "scipy 0.18.1\n",
      "sklearn 0.17.1\n"
     ]
    }
   ],
   "source": [
    "%load_ext watermark\n",
    "%watermark -a '' -u -d -v -p numpy,pandas,matplotlib,scipy,sklearn\n",
    "%matplotlib inline"
   ]
  },
  {
   "cell_type": "code",
   "execution_count": 2,
   "metadata": {
    "collapsed": true,
    "slideshow": {
     "slide_type": "skip"
    }
   },
   "outputs": [],
   "source": [
    "# Added version check for recent scikit-learn 0.18 checks\n",
    "from distutils.version import LooseVersion as Version\n",
    "from sklearn import __version__ as sklearn_version"
   ]
  },
  {
   "cell_type": "markdown",
   "metadata": {
    "slideshow": {
     "slide_type": "fragment"
    }
   },
   "source": [
    "## Load data"
   ]
  },
  {
   "cell_type": "code",
   "execution_count": 3,
   "metadata": {
    "collapsed": false,
    "slideshow": {
     "slide_type": "fragment"
    }
   },
   "outputs": [
    {
     "name": "stdout",
     "output_type": "stream",
     "text": [
      "(1797, 64)\n",
      "(1797,)\n",
      "[0 1 2 3 4 5 6 7 8 9]\n"
     ]
    }
   ],
   "source": [
    "import numpy as np\n",
    "\n",
    "from sklearn.datasets import load_digits\n",
    "digits = load_digits()\n",
    "\n",
    "X = digits.data # data in pixels\n",
    "y = digits.target # digit labels\n",
    "type (X)\n",
    "print(X.shape)\n",
    "print(y.shape)\n",
    "\n",
    "print(np.unique(y))"
   ]
  },
  {
   "cell_type": "markdown",
   "metadata": {
    "slideshow": {
     "slide_type": "fragment"
    }
   },
   "source": [
    "## Visualize data"
   ]
  },
  {
   "cell_type": "code",
   "execution_count": 4,
   "metadata": {
    "collapsed": false,
    "slideshow": {
     "slide_type": "fragment"
    }
   },
   "outputs": [
    {
     "data": {
      "image/png": "[encoded data removed]",
      "text/plain": [
       "<matplotlib.figure.Figure at 0x7fe826cd4358>"
      ]
     },
     "metadata": {},
     "output_type": "display_data"
    }
   ],
   "source": [
    "import matplotlib.pyplot as plt\n",
    "import pylab as pl\n",
    "\n",
    "num_rows = 4\n",
    "num_cols = 5\n",
    "\n",
    "fig, ax = plt.subplots(nrows=num_rows, ncols=num_cols, sharex=True, sharey=True)\n",
    "ax = ax.flatten()\n",
    "for index in range(num_rows*num_cols):\n",
    "    img = digits.images[index]\n",
    "    label = digits.target[index]\n",
    "    ax[index].imshow(img, cmap='Greys', interpolation='nearest')\n",
    "    ax[index].set_title('digit ' + str(label))\n",
    "\n",
    "ax[0].set_xticks([])\n",
    "ax[0].set_yticks([])\n",
    "plt.tight_layout()\n",
    "plt.show()"
   ]
  },
  {
   "cell_type": "markdown",
   "metadata": {
    "slideshow": {
     "slide_type": "fragment"
    }
   },
   "source": [
    "## Data sets: training versus test"
   ]
  },
  {
   "cell_type": "code",
   "execution_count": 5,
   "metadata": {
    "collapsed": false,
    "slideshow": {
     "slide_type": "fragment"
    }
   },
   "outputs": [
    {
     "name": "stdout",
     "output_type": "stream",
     "text": [
      "training: 1257, test: 540\n"
     ]
    }
   ],
   "source": [
    "if Version(sklearn_version) < '0.18':\n",
    "    from sklearn.cross_validation import train_test_split\n",
    "else:\n",
    "    from sklearn.model_selection import train_test_split\n",
    "    \n",
    "X_train, X_test, y_train, y_test = train_test_split(\n",
    "    X, y, test_size=0.3, random_state=1)\n",
    "\n",
    "num_training = y_train.shape[0]\n",
    "num_test = y_test.shape[0]\n",
    "print('training: ' + str(num_training) + ', test: ' + str(num_test))"
   ]
  },
  {
   "cell_type": "code",
   "execution_count": 6,
   "metadata": {
    "collapsed": false,
    "slideshow": {
     "slide_type": "fragment"
    }
   },
   "outputs": [
    {
     "name": "stdout",
     "output_type": "stream",
     "text": [
      "[119 133 128 119 120 135 130 122 128 123]\n",
      "[59 49 49 64 61 47 51 57 46 57]\n"
     ]
    }
   ],
   "source": [
    "import numpy as np\n",
    "\n",
    "# check to see if the data are well distributed among digits\n",
    "for y in [y_train, y_test]:\n",
    "    print(np.bincount(y))"
   ]
  },
  {
   "cell_type": "markdown",
   "metadata": {
    "slideshow": {
     "slide_type": "subslide"
    }
   },
   "source": [
    "## Answer\n",
    "These are the codes, explanation at the end. "
   ]
  },
  {
   "cell_type": "markdown",
   "metadata": {
    "slideshow": {
     "slide_type": "fragment"
    }
   },
   "source": [
    "We first write a scoring function for clustering so that we can use for GridSearchCV.\n",
    "Take a look at use_scorer under scikit learn."
   ]
  },
  {
   "cell_type": "code",
   "execution_count": 7,
   "metadata": {
    "collapsed": false,
    "slideshow": {
     "slide_type": "fragment"
    }
   },
   "outputs": [],
   "source": [
    "from sklearn.metrics import accuracy_score, make_scorer\n",
    "\n",
    "def clustering_accuracy_score(y_true, y_pred):\n",
    "    # replace this with your code; note that y_pred is just cluster id, not digit id\n",
    "    \n",
    "    concate = np.append(y_true, y_pred)\n",
    "    num_of_class = np.max(concate) + 1\n",
    "    #print(num_of_class)\n",
    "    \n",
    "    \n",
    "    size = y_true.size\n",
    "    \n",
    "    \n",
    "    correct = 0.0\n",
    "\n",
    "    confusion = np.zeros((num_of_class, num_of_class))\n",
    "    for i in range(0, size):\n",
    "        confusion[y_pred[i], y_true[i]] += 1\n",
    "        \n",
    "\n",
    "    for i in range(0, confusion.shape[0]):\n",
    "        \n",
    "        max_position = get_max_integer_in_ndarray(confusion)\n",
    "        correct += confusion[max_position[0],max_position[1]]\n",
    "        confusion = np.delete(confusion,max_position[0], axis = 0)\n",
    "        confusion = np.delete(confusion,max_position[1],axis = 1)\n",
    "    return correct / size \n",
    "\n",
    "# find the position of the max value in the matrix. \n",
    "def get_max_integer_in_ndarray(matrix):\n",
    "    pos_max_each_line = matrix.argmax(axis = 1)\n",
    "    max_values_each_line = np.zeros(pos_max_each_line.size)\n",
    "    for j in range(0, pos_max_each_line.size):\n",
    "            max_values_each_line[j]=matrix[j, pos_max_each_line[j]]\n",
    "    row_taken = max_values_each_line.argmax()\n",
    "    col_taken = pos_max_each_line[row_taken]\n",
    "    return (row_taken, col_taken)\n",
    "\n",
    "clustering_accuracy = make_scorer(clustering_accuracy_score) "
   ]
  },
  {
   "cell_type": "code",
   "execution_count": 8,
   "metadata": {
    "collapsed": false,
    "slideshow": {
     "slide_type": "fragment"
    }
   },
   "outputs": [
    {
     "name": "stdout",
     "output_type": "stream",
     "text": [
      "accuracy 1.0 , should be 1\n",
      "accuracy 0.833333333333 , should be 0.8333333333333334\n",
      "accuracy 0.666666666667 , should be 0.6666666666666666\n",
      "accuracy 0.692307692308 , should be 0.692307692308\n"
     ]
    }
   ],
   "source": [
    "# toy case demonstrating the clustering accuracy\n",
    "# this is just a reference to illustrate what this score function is trying to achieve\n",
    "# feel free to design your own as long as you can justify\n",
    "\n",
    "# ground truth class label for samples\n",
    "toy_y_true = np.array([0, 0, 0, 1, 1, 2])\n",
    "\n",
    "# clustering id for samples\n",
    "toy_y_pred_true = np.array([1, 1, 1, 2, 2, 0])\n",
    "toy_y_pred_bad1 = np.array([0, 0, 1, 1, 1, 2])\n",
    "toy_y_pred_bad2 = np.array([2, 2, 1, 0, 0, 0])\n",
    "\n",
    "toy_accuracy = clustering_accuracy_score(toy_y_true, toy_y_pred_true)\n",
    "print('accuracy', toy_accuracy, ', should be 1')\n",
    "\n",
    "toy_accuracy = clustering_accuracy_score(toy_y_true, toy_y_pred_bad1)\n",
    "print('accuracy', toy_accuracy, ', should be', 5.0/6.0)\n",
    "\n",
    "toy_accuracy = clustering_accuracy_score(toy_y_true, toy_y_pred_bad2)\n",
    "print('accuracy', toy_accuracy, ', should be', 4.0/6.0)\n",
    "\n",
    "\n",
    "clus = np.array([1, 4, 4, 4, 4, 4, 3, 3, 2, 2, 3, 1, 1])\n",
    "clas = np.array([5, 1, 2, 2, 2, 3, 3, 3, 1, 1, 1, 5, 2])\n",
    "print('accuracy', clustering_accuracy_score(clas, clus), ', should be 0.692307692308')\n",
    "\n"
   ]
  },
  {
   "cell_type": "markdown",
   "metadata": {
    "slideshow": {
     "slide_type": "fragment"
    }
   },
   "source": [
    "Build a pipeline with standard scaler, PCA, and clustering."
   ]
  },
  {
   "cell_type": "code",
   "execution_count": 8,
   "metadata": {
    "collapsed": false,
    "slideshow": {
     "slide_type": "fragment"
    }
   },
   "outputs": [],
   "source": [
    "# your code\n",
    "from sklearn.preprocessing import StandardScaler\n",
    "from sklearn.decomposition import PCA\n",
    "from sklearn.linear_model import LogisticRegression\n",
    "from sklearn.cluster import KMeans\n",
    "from sklearn.pipeline import Pipeline\n",
    "if Version(sklearn_version) < '0.18':\n",
    "    from sklearn.grid_search import GridSearchCV\n",
    "else:\n",
    "    from sklearn.model_selection import GridSearchCV\n",
    "pipe_est = Pipeline([('scl', StandardScaler()),\n",
    "                   ('pca', PCA()),\n",
    "                   ('kmeans', KMeans(n_clusters=10, init='k-means++'))])\n"
   ]
  },
  {
   "cell_type": "markdown",
   "metadata": {
    "slideshow": {
     "slide_type": "fragment"
    }
   },
   "source": [
    "Use GridSearchCV to tune hyper-parameters."
   ]
  },
  {
   "cell_type": "code",
   "execution_count": 12,
   "metadata": {
    "collapsed": false,
    "slideshow": {
     "slide_type": "fragment"
    }
   },
   "outputs": [
    {
     "name": "stdout",
     "output_type": "stream",
     "text": [
      "0.677804295943\n",
      "{'pca__n_components': 46}\n"
     ]
    }
   ],
   "source": [
    "# your code\n",
    "pca_range = list(range(10, 64))\n",
    "param_grid = [{'pca__n_components': pca_range}]\n",
    "\n",
    "gs = GridSearchCV(estimator=pipe_est, \n",
    "                  param_grid=param_grid, \n",
    "                  scoring=clustering_accuracy, \n",
    "                  cv=10,\n",
    "                  n_jobs=24)#I was running on a 24-core server, tested on this setting, no bug found)\n",
    "\n",
    "gs = gs.fit(X_train, y_train)\n",
    "print (gs.best_score_)\n",
    "print(gs.best_params_)\n",
    "# below is Li-Yi's dummy code to build a random guess model\n",
    "import numpy as np\n",
    "class RandomGuesser:\n",
    "    def __init__(self, num_classes):\n",
    "        self.num_classes = num_classes\n",
    "    def predict(self, X):\n",
    "        y = np.random.randint(low = 0, high = self.num_classes, size = X.shape[0])\n",
    "        return y"
   ]
  },
  {
   "cell_type": "code",
   "execution_count": 13,
   "metadata": {
    "collapsed": false,
    "slideshow": {
     "slide_type": "fragment"
    }
   },
   "outputs": [
    {
     "name": "stdout",
     "output_type": "stream",
     "text": [
      "Test accuracy: 0.683\n"
     ]
    }
   ],
   "source": [
    "#best_model = RandomGuesser(10) # replace this with the best model you can build\n",
    "\n",
    "#y_cm = best_model.predict(X_test)\n",
    "y_cm = gs.predict(X_test)\n",
    "print('Test accuracy: %.3f' % clustering_accuracy_score(y_true=y_test, y_pred=y_cm))\n",
    "#print('Test accuracy: %.3f' % best_model.score(X_test, y_test))"
   ]
  },
  {
   "cell_type": "markdown",
   "metadata": {
    "slideshow": {
     "slide_type": "fragment"
    }
   },
   "source": [
    "Visualize mis-clustered samples, and provide your explanation."
   ]
  },
  {
   "cell_type": "code",
   "execution_count": 14,
   "metadata": {
    "collapsed": false,
    "slideshow": {
     "slide_type": "fragment"
    }
   },
   "outputs": [
    {
     "data": {
      "image/png": "[encoded data removed]",
      "text/plain": [
       "<matplotlib.figure.Figure at 0x7fe8265dbf60>"
      ]
     },
     "metadata": {},
     "output_type": "display_data"
    }
   ],
   "source": [
    "# your code\n",
    "size = y_cm.size\n",
    "confusion = np.zeros((10, 10))\n",
    "for i in range(0, size):\n",
    "    confusion[y_cm[i], y_test[i]] += 1\n",
    "conf = confusion.copy()        \n",
    "\n",
    "\n",
    "## get the mappings between cluster and digit class \n",
    "#cluster[i]=x, the i-th cluster is the group of digit x. \n",
    "cluster_mapping = np.zeros(10)\n",
    "\n",
    "for i in range(0, 10):\n",
    "    #print(conf)\n",
    "    max_position = get_max_integer_in_ndarray(conf)\n",
    "    #print(max_position)\n",
    "    cluster_mapping[max_position[0]]=max_position[1]\n",
    "    conf[max_position[0],:]=0\n",
    "    conf[:,max_position[1]]=0\n",
    "#print(cluster_mapping)cluster_mapping\n",
    "\n",
    "wrongs = []\n",
    "for i in range (0, size):\n",
    "    if cluster_mapping[y_cm[i]] != y_test[i]:\n",
    "        wrongs.append(i)\n",
    "\n",
    "#print (1-len(wrongs) / 540.0)\n",
    "num_wrongs = len(wrongs)\n",
    "\n",
    "\n",
    "batch_size = 36\n",
    "num_cols = 9\n",
    "num_rows = 4\n",
    "\n",
    "def plot_batch(batch):\n",
    "\n",
    "    fig, ax = plt.subplots(nrows=num_rows, ncols=num_cols, sharex=True, sharey=True)\n",
    "    ax = ax.flatten()\n",
    "    for i in range(0, batch_size):\n",
    "        index = wrongs[i+batch*batch_size]\n",
    "        img = X_test[index].reshape((8,8))\n",
    "        t = y_test[index]\n",
    "        p = cluster_mapping[y_cm[index]]\n",
    "        ax[i].imshow(img, cmap='Greys', interpolation='nearest')\n",
    "        ax[i].set_title('t' + str(t)+ ' p'+str(int(p)))\n",
    "\n",
    "    ax[0].set_xticks([])\n",
    "    ax[0].set_yticks([])\n",
    "    plt.tight_layout()\n",
    "    plt.show()\n",
    "\n",
    "    \n",
    "    \n",
    "num_batch_in_sample = 1 \n",
    "## print 36 samples of misclassfied, change this number if want more\n",
    "for i in range(0,num_batch_in_sample):\n",
    "    plot_batch(i) "
   ]
  },
  {
   "cell_type": "markdown",
   "metadata": {
    "slideshow": {
     "slide_type": "fragment"
    }
   },
   "source": [
    "# your explanation\n",
    "\n",
    "## Accuracy\n",
    "\n",
    "#### 1. How do I define which digit each cluster represents?\n",
    "\n",
    "Intuitively, voting is a good method. Because we know the label associate with each data, for each cluster, we can simply let each point vote for their own truth, count the vote and pick the digit with the most votes to represent that cluster. \n",
    "\n",
    "#### 2. How do I define accuracy?\n",
    "\n",
    "After the voting, we can *assume* that each cluster represents one digit. Then those different from that digit are counted as wrong. Accuracy can be defined by (total number of correct) / (data size). According to wikipedia, this shuold be called *purity*.\n",
    "\n",
    "#### 3. How many clusters I want to have?\n",
    "\n",
    "First in first, we won't have fewer than 10 clusters. Otherwise, it won't be helpful for our goal. \n",
    "\n",
    "If we have more than 10 clusters, which means different clusters can represent the same class, then the chance that different digit in the same cluster will decrease, and the accuracy (as we defined) will increase. However, more clusters means more manual work after getting the clustering result. One extreme case is to have one point per cluster, the accuracy is 100% but actually we are doing nothing. Moreover, if the cluster size is small, then the chance that the \"voting\" process diverge tends to higher. \n",
    "\n",
    "In this question, because we want mimic the process of using clustering to label digits, I assume we can have **10 and only 10 clusters** when we are doing clustering.\n",
    "\n",
    "### 4. How do I calcuate the accuracy score. \n",
    "\n",
    "Differnt from the definition of *purity*. I have a assumption that the number of cluster equals the number of classes (=10). Then after constructing the *confusion matrix* (according to wikipedia), rather than summing the max of each row directly, I do an iteration for assigning cluster to class.\n",
    "\n",
    "1. Pick the largest value in the *whole matrix*, say its index is $(i, j)$ assign that cluster-$i$ to that class-$j$. Count the correct points in cluster-$i$. \n",
    "2. Remove class-$j$ from the candidate list. (delete column-$j$ from the matrix)\n",
    "3. Go to next iteration until all clusters has been assigned. \n",
    "\n",
    "I did that because I must make sure that we have a 1-to-1 mapping between the 10 clustes and 10 classes. \n",
    "\n",
    "\n",
    "## Data preprocessing\n",
    "\n",
    "I used standard scaler and PCA for the preprocessing. And use grid search to find the N-components. However, because K-means have randomization, the best-value may change overtime. \n",
    "\n",
    "\n",
    "## Wrong cases\n",
    "Because the clustering is based on distance, rather than some features, it is hard to be very accurate. \n",
    "It is hard to determing some scribble handwritting. For example, 1 & 7 and 3 & 8, sometiems can be really close. \n",
    "\n",
    "\n"
   ]
  },
  {
   "cell_type": "markdown",
   "metadata": {
    "slideshow": {
     "slide_type": "slide"
    }
   },
   "source": [
    "# Tiny image classification\n",
    "\n",
    "We will use the [CIFAR-10 dataset](https://www.cs.toronto.edu/~kriz/cifar.html) for image object recognition.\n",
    "The dataset consists of 50000 training samples and 10000 test samples in 10 different classes (airplane, automobile, bird, cat, deer, dog, frog, horse, ship, truck; see the link above for more information).\n",
    "The goal is to maximize the accuracy of your classifier on the test dataset after being optimized via the training dataset.\n",
    "\n",
    "You can use any learning models (supervised or unsupervised) or optimization methods (e.g. search methods for hyper-parameters).\n",
    "The only requirement is that your code can run inside an ipynb file, as usual.\n",
    "Please provide a description of your method, in addition to the code.\n",
    "Your answer will be evaluated not only on the test accuracy but also on the creativity of your methodology and the quality of your explanation/description."
   ]
  },
  {
   "cell_type": "markdown",
   "metadata": {
    "slideshow": {
     "slide_type": "subslide"
    }
   },
   "source": [
    "## Sample code to get you started\n",
    "\n",
    "This is a difficult classification task.\n",
    "A sample code below, based on a simple fully connected neural network built via Keras, is provided below.\n",
    "The test accuracy is about 43%."
   ]
  },
  {
   "cell_type": "code",
   "execution_count": 15,
   "metadata": {
    "collapsed": false,
    "slideshow": {
     "slide_type": "fragment"
    }
   },
   "outputs": [
    {
     "name": "stdout",
     "output_type": "stream",
     "text": [
      "The watermark extension is already loaded. To reload it, use:\n",
      "  %reload_ext watermark\n"
     ]
    },
    {
     "name": "stderr",
     "output_type": "stream",
     "text": [
      "Using TensorFlow backend.\n"
     ]
    },
    {
     "name": "stdout",
     "output_type": "stream",
     "text": [
      "last updated: 2016-12-14 \n",
      "\n",
      "CPython 3.5.2\n",
      "IPython 5.1.0\n",
      "\n",
      "numpy 1.11.1\n",
      "keras 1.1.1\n"
     ]
    }
   ],
   "source": [
    "%load_ext watermark\n",
    "%watermark -a '' -u -d -v -p numpy,keras"
   ]
  },
  {
   "cell_type": "code",
   "execution_count": 29,
   "metadata": {
    "collapsed": false,
    "slideshow": {
     "slide_type": "fragment"
    }
   },
   "outputs": [
    {
     "name": "stdout",
     "output_type": "stream",
     "text": [
      "(50000, 32, 32, 3)\n",
      "image shape:  (32, 32, 3)\n",
      "50000 training samples\n",
      "10000 test samples\n",
      "10 classes\n"
     ]
    }
   ],
   "source": [
    "from keras.datasets import cifar10\n",
    "from keras.utils import np_utils\n",
    "from keras.models import Sequential\n",
    "from keras.layers import Dense, Dropout, Activation, Flatten\n",
    "from keras.layers import Convolution2D, MaxPooling2D\n",
    "from keras.optimizers import SGD\n",
    "import numpy as np\n",
    "from sklearn.metrics import accuracy_score\n",
    "\n",
    "# load data set\n",
    "(X_train, y_train), (X_test, y_test) = cifar10.load_data()\n",
    "print(X_train.shape)\n",
    "\n",
    "\n",
    "img_shape = X_train.shape[1:] # [num_rows, num_cols, num_channels]\n",
    "num_img_pixels = np.prod(img_shape)\n",
    "num_training_samples = X_train.shape[0]\n",
    "num_test_samples = X_test.shape[0]\n",
    "\n",
    "nb_classes = np.sum(np.unique(y_train).shape)\n",
    "\n",
    "print('image shape: ', img_shape)\n",
    "print(X_train.shape[0], 'training samples')\n",
    "print(X_test.shape[0], 'test samples')\n",
    "print(nb_classes, 'classes')\n",
    "\n",
    "# data processing\n",
    "\n",
    "X_train = X_train.reshape(num_training_samples, num_img_pixels)\n",
    "X_test = X_test.reshape(num_test_samples, num_img_pixels)\n",
    "\n",
    "X_train = X_train.astype('float32')\n",
    "X_test = X_test.astype('float32')\n",
    "X_train /= 255\n",
    "X_test /= 255\n",
    "\n",
    "# one hot encoding of labels\n",
    "y_train_ohe = np_utils.to_categorical(y_train)\n",
    "y_test_ohe = np_utils.to_categorical(y_test)"
   ]
  },
  {
   "cell_type": "code",
   "execution_count": 17,
   "metadata": {
    "collapsed": false,
    "slideshow": {
     "slide_type": "fragment"
    }
   },
   "outputs": [],
   "source": [
    "# build a basic network\n",
    "\n",
    "model = Sequential()\n",
    "\n",
    "model.add(Dense(input_dim = num_img_pixels, \n",
    "                output_dim = 50, \n",
    "                init = 'uniform', \n",
    "                activation = 'tanh'))\n",
    "\n",
    "model.add(Dense(output_dim = 50, \n",
    "                init = 'uniform', \n",
    "                activation = 'tanh'))\n",
    "\n",
    "model.add(Dense(output_dim = nb_classes, \n",
    "                init = 'uniform', \n",
    "                activation = 'softmax'))\n",
    "\n",
    "sgd = SGD(lr=0.001, decay=1e-7, momentum=.9)\n",
    "\n",
    "model.compile(loss = 'categorical_crossentropy', \n",
    "              optimizer = sgd, \n",
    "              metrics = [\"accuracy\"])\n"
   ]
  },
  {
   "cell_type": "code",
   "execution_count": 18,
   "metadata": {
    "collapsed": false,
    "slideshow": {
     "slide_type": "fragment"
    }
   },
   "outputs": [],
   "source": [
    "# train\n",
    "\n",
    "_ = model.fit(X_train, y_train_ohe, \n",
    "              nb_epoch = 5, \n",
    "              batch_size = 10, \n",
    "              verbose = False, # turn this on to visualize progress \n",
    "              validation_split = 0.1 # 10% of training data for validation per epoch\n",
    "             )## Accuracy"
   ]
  },
  {
   "cell_type": "code",
   "execution_count": 19,
   "metadata": {
    "collapsed": false,
    "slideshow": {
     "slide_type": "fragment"
    }
   },
   "outputs": [
    {
     "name": "stdout",
     "output_type": "stream",
     "text": [
      "First few predictions:  [6 1 9]\n",
      "Training accuracy: 0.43732\n",
      "Test accuracy: 0.4249\n"
     ]
    }
   ],
   "source": [
    "# evaluate\n",
    "\n",
    "y_train_pred = model.predict_classes(X_train, verbose=False)\n",
    "print('First few predictions: ', y_train_pred[:3])\n",
    "train_acc = accuracy_score(y_train, y_train_pred)\n",
    "print('Training accuracy:', train_acc)\n",
    "\n",
    "y_test_pred = model.predict_classes(X_test, verbose=False)\n",
    "test_acc = accuracy_score(y_test, y_test_pred)\n",
    "print('Test accuracy:', test_acc)\n"
   ]
  },
  {
   "cell_type": "markdown",
   "metadata": {
    "slideshow": {
     "slide_type": "subslide"
    }
   },
   "source": [
    "## Answer"
   ]
  },
  {
   "cell_type": "code",
   "execution_count": 23,
   "metadata": {
    "collapsed": false,
    "slideshow": {
     "slide_type": "fragment"
    }
   },
   "outputs": [
    {
     "name": "stdout",
     "output_type": "stream",
     "text": [
      "(50000, 32, 32, 3)\n",
      "(50000, 3, 32, 32)\n"
     ]
    }
   ],
   "source": [
    "# your code and experimental results\n",
    "from keras.constraints import maxnorm\n",
    "import theano\n",
    "from keras.layers import Dense, Dropout, Activation, Flatten, Reshape\n",
    "#theano.config.openmp = True\n",
    "\n",
    "# re-load data set, don't change the shape (same code as given)\n",
    "(X_train, y_train), (X_test, y_test) = cifar10.load_data()\n",
    "print (X_train.shape)\n",
    "\n",
    "\n",
    "img_shape = X_train.shape[1:] # [num_rows, num_cols, num_channels]\n",
    "num_img_pixels = np.prod(img_shape)\n",
    "num_training_samples = X_train.shape[0]\n",
    "num_test_samples = X_test.shape[0]\n",
    "\n",
    "nb_classes = np.sum(np.unique(y_train).shape)\n",
    "\n",
    "#print('image shape: ', img_shape)\n",
    "#print(X_train.shape[0], 'training samples')\n",
    "#print(X_test.shape[0], 'test samples')\n",
    "#print(nb_classes, 'classes')\n",
    "\n",
    "# data processing\n",
    "\n",
    "#X_train = X_train.reshape(num_training_samples, num_img_pixels)\n",
    "#X_test = X_test.reshape(num_test_samples, num_img_pixels)\n",
    "\n",
    "\n",
    "#transpose the data to the convolution input need \n",
    "#don't know whether there are smarter way \n",
    "#(like change the input parameter so that it can take other foramt of input) \n",
    "#just following the tutorial and use the same input format\n",
    "X_train=X_train.transpose(0, 3, 1, 2)\n",
    "X_test=X_test.transpose(0, 3, 1, 2)\n",
    "print(X_train.shape)\n",
    "\n",
    "\n",
    "\n",
    "X_train = X_train.astype('float32')\n",
    "X_test = X_test.astype('float32')\n",
    "X_train /= 255\n",
    "X_test /= 255\n",
    "\n",
    "# one hot encoding of labels\n",
    "y_train_ohe = np_utils.to_categorical(y_train)\n",
    "y_test_ohe = np_utils.to_categorical(y_test)\n",
    "\n",
    "\n",
    "model_new = Sequential()\n",
    "model_new.add(Convolution2D(32, 3, 3, input_shape=(3, 32, 32), dim_ordering='th', border_mode='same', activation='relu', W_constraint=maxnorm(3)))\n",
    "model_new.add(MaxPooling2D(pool_size=(2, 2)))\n",
    "\n",
    "model_new.add(Convolution2D(32, 3, 3, activation='relu',dim_ordering='th', border_mode='same', W_constraint=maxnorm(3)))\n",
    "model_new.add(MaxPooling2D(pool_size=(2, 2)))\n",
    "model_new.add(Dropout(0.2))\n",
    "\n",
    "model_new.add(Flatten())\n",
    "model_new.add(Dense(3*16*16, activation='relu', W_constraint=maxnorm(3)))\n",
    "model_new.add(Reshape((3, 16, 16)))\n",
    "\n",
    "\n",
    "model_new.add(Convolution2D(32, 3, 3, activation='relu', dim_ordering='th', border_mode='same', W_constraint=maxnorm(3)))\n",
    "model_new.add(MaxPooling2D(pool_size=(2, 2)))\n",
    "model_new.add(Dropout(0.2))    \n",
    "\n",
    "\n",
    "model_new.add(Flatten())\n",
    "    \n",
    "\n",
    "\n",
    "model_new.add(Dense(nb_classes, activation='softmax'))\n",
    "\n",
    "epochs = 25\n",
    "learning_rate = 0.01\n",
    "decay = learning_rate/epochs\n",
    "\n",
    "\n",
    "sgd = SGD(lr=learning_rate, momentum=0.9, decay=decay, nesterov=False)\n",
    "model_new.compile(loss = 'categorical_crossentropy', \n",
    "              optimizer = sgd, \n",
    "              metrics = [\"accuracy\"])\n",
    "\n",
    "#print(model_new.summary())\n",
    "\n"
   ]
  },
  {
   "cell_type": "code",
   "execution_count": 24,
   "metadata": {
    "collapsed": false
   },
   "outputs": [
    {
     "name": "stdout",
     "output_type": "stream",
     "text": [
      "Train on 45000 samples, validate on 5000 samples\n",
      "Epoch 1/10\n",
      "45000/45000 [==============================] - 128s - loss: 1.6712 - acc: 0.3865 - val_loss: 1.4181 - val_acc: 0.4828\n",
      "Epoch 2/10\n",
      "45000/45000 [==============================] - 128s - loss: 1.3399 - acc: 0.5190 - val_loss: 1.2091 - val_acc: 0.5596\n",
      "Epoch 3/10\n",
      "45000/45000 [==============================] - 128s - loss: 1.1697 - acc: 0.5809 - val_loss: 1.1501 - val_acc: 0.5960\n",
      "Epoch 4/10\n",
      "45000/45000 [==============================] - 128s - loss: 1.0349 - acc: 0.6302 - val_loss: 1.0965 - val_acc: 0.6182\n",
      "Epoch 5/10\n",
      "45000/45000 [==============================] - 128s - loss: 0.9211 - acc: 0.6706 - val_loss: 1.0792 - val_acc: 0.6210\n",
      "Epoch 6/10\n",
      "45000/45000 [==============================] - 128s - loss: 0.8201 - acc: 0.7086 - val_loss: 1.1072 - val_acc: 0.6282\n",
      "Epoch 7/10\n",
      "45000/45000 [==============================] - 128s - loss: 0.7196 - acc: 0.7444 - val_loss: 1.0793 - val_acc: 0.6406\n",
      "Epoch 8/10\n",
      "45000/45000 [==============================] - 128s - loss: 0.6339 - acc: 0.7729 - val_loss: 1.0881 - val_acc: 0.6472\n",
      "Epoch 9/10\n",
      "45000/45000 [==============================] - 128s - loss: 0.5536 - acc: 0.8031 - val_loss: 1.1016 - val_acc: 0.6472\n",
      "Epoch 10/10\n",
      "45000/45000 [==============================] - 128s - loss: 0.4819 - acc: 0.8316 - val_loss: 1.1641 - val_acc: 0.6448\n"
     ]
    }
   ],
   "source": [
    "_ = model_new.fit(X_train, y_train_ohe, \n",
    "              nb_epoch = 10, \n",
    "              batch_size = 10, \n",
    "              verbose = True, # turn this on to visualize progress \n",
    "              validation_split = 0.1 # 10% of training data for validation per epoch\n",
    "             )"
   ]
  },
  {
   "cell_type": "code",
   "execution_count": 25,
   "metadata": {
    "collapsed": false
   },
   "outputs": [
    {
     "name": "stdout",
     "output_type": "stream",
     "text": [
      "First few predictions:  [6 9 9]\n",
      "Training accuracy: 0.907\n",
      "Test accuracy: 0.6423\n"
     ]
    }
   ],
   "source": [
    "y_train_pred = model_new.predict_classes(X_train, verbose=False)\n",
    "print('First few predictions: ', y_train_pred[:3])\n",
    "train_acc = accuracy_score(y_train, y_train_pred)\n",
    "print('Training accuracy:', train_acc)\n",
    "\n",
    "y_test_pred = model_new.predict_classes(X_test, verbose=False)\n",
    "test_acc = accuracy_score(y_test, y_test_pred)\n",
    "print('Test accuracy:', test_acc)"
   ]
  },
  {
   "cell_type": "markdown",
   "metadata": {},
   "source": [
    "## (I got two more models below, I didn't change in the original code to make keep the previous output)"
   ]
  },
  {
   "cell_type": "code",
   "execution_count": 40,
   "metadata": {
    "collapsed": false
   },
   "outputs": [
    {
     "name": "stdout",
     "output_type": "stream",
     "text": [
      "(50000, 32, 32, 3)\n",
      "(50000, 3, 32, 32)\n"
     ]
    }
   ],
   "source": [
    "# your code and experimental results\n",
    "from keras.constraints import maxnorm\n",
    "import theano\n",
    "from keras.layers import Dense, Dropout, Activation, Flatten, Reshape\n",
    "#theano.config.openmp = True\n",
    "\n",
    "# re-load data set, don't change the shape (same code as given)\n",
    "(X_train, y_train), (X_test, y_test) = cifar10.load_data()\n",
    "print (X_train.shape)\n",
    "\n",
    "\n",
    "img_shape = X_train.shape[1:] # [num_rows, num_cols, num_channels]\n",
    "num_img_pixels = np.prod(img_shape)\n",
    "num_training_samples = X_train.shape[0]\n",
    "num_test_samples = X_test.shape[0]\n",
    "\n",
    "nb_classes = np.sum(np.unique(y_train).shape)\n",
    "\n",
    "#print('image shape: ', img_shape)\n",
    "#print(X_train.shape[0], 'training samples')\n",
    "#print(X_test.shape[0], 'test samples')\n",
    "#print(nb_classes, 'classes')\n",
    "\n",
    "# data processing\n",
    "\n",
    "#X_train = X_train.reshape(num_training_samples, num_img_pixels)\n",
    "#X_test = X_test.reshape(num_test_samples, num_img_pixels)\n",
    "\n",
    "\n",
    "#transpose the data to the convolution input need \n",
    "#don't know whether there are smarter way \n",
    "#(like change the input parameter so that it can take other foramt of input) \n",
    "#just following the tutorial and use the same input format\n",
    "X_train=X_train.transpose(0, 3, 1, 2)\n",
    "X_test=X_test.transpose(0, 3, 1, 2)\n",
    "print(X_train.shape)\n",
    "\n",
    "\n",
    "\n",
    "X_train = X_train.astype('float32')\n",
    "X_test = X_test.astype('float32')\n",
    "X_train /= 255\n",
    "X_test /= 255\n",
    "\n",
    "# one hot encoding of labels\n",
    "y_train_ohe = np_utils.to_categorical(y_train)\n",
    "y_test_ohe = np_utils.to_categorical(y_test)\n",
    "\n",
    "\n",
    "model_new_2 = Sequential()\n",
    "model_new_2.add(Convolution2D(32, 3, 3, input_shape=(3, 32, 32), dim_ordering='th', border_mode='same', activation='relu', W_constraint=maxnorm(3)))\n",
    "model_new_2.add(MaxPooling2D(pool_size=(2, 2)))\n",
    "model_new_2.add(Dropout(0.2))\n",
    "\n",
    "model_new_2.add(Convolution2D(32, 3, 3, activation='relu',dim_ordering='th', border_mode='same', W_constraint=maxnorm(3)))\n",
    "model_new_2.add(MaxPooling2D(pool_size=(2, 2)))\n",
    "model_new_2.add(Dropout(0.3))\n",
    "\n",
    "model_new_2.add(Flatten())\n",
    "model_new_2.add(Dense(3*16*16, activation='relu', W_constraint=maxnorm(3)))\n",
    "model_new_2.add(Reshape((3, 16, 16)))\n",
    "\n",
    "\n",
    "model_new_2.add(Convolution2D(32, 3, 3, activation='relu', dim_ordering='th', border_mode='same', W_constraint=maxnorm(3)))\n",
    "model_new_2.add(MaxPooling2D(pool_size=(2, 2)))\n",
    "model_new_2.add(Dropout(0.2))    \n",
    "\n",
    "\n",
    "model_new_2.add(Flatten())\n",
    "    \n",
    "\n",
    "\n",
    "model_new_2.add(Dense(nb_classes, activation='softmax'))\n",
    "\n",
    "epochs = 25\n",
    "learning_rate = 0.01\n",
    "decay = learning_rate/epochs\n",
    "\n",
    "\n",
    "sgd = SGD(lr=learning_rate, momentum=0.9, decay=decay, nesterov=False)\n",
    "model_new_2.compile(loss = 'categorical_crossentropy', \n",
    "              optimizer = sgd, \n",
    "              metrics = [\"accuracy\"])\n",
    "\n",
    "#print(model_new.summary())\n"
   ]
  },
  {
   "cell_type": "code",
   "execution_count": 41,
   "metadata": {
    "collapsed": false
   },
   "outputs": [
    {
     "name": "stdout",
     "output_type": "stream",
     "text": [
      "Train on 45000 samples, validate on 5000 samples\n",
      "Epoch 1/12\n",
      "45000/45000 [==============================] - 128s - loss: 1.7654 - acc: 0.3531 - val_loss: 1.3903 - val_acc: 0.4878\n",
      "Epoch 2/12\n",
      "45000/45000 [==============================] - 127s - loss: 1.3610 - acc: 0.5085 - val_loss: 1.2208 - val_acc: 0.5690\n",
      "Epoch 3/12\n",
      "45000/45000 [==============================] - 128s - loss: 1.1965 - acc: 0.5728 - val_loss: 1.1374 - val_acc: 0.5972\n",
      "Epoch 4/12\n",
      "45000/45000 [==============================] - 128s - loss: 1.0736 - acc: 0.6158 - val_loss: 1.0321 - val_acc: 0.6328\n",
      "Epoch 5/12\n",
      "45000/45000 [==============================] - 128s - loss: 0.9822 - acc: 0.6494 - val_loss: 0.9976 - val_acc: 0.6494\n",
      "Epoch 6/12\n",
      "45000/45000 [==============================] - 127s - loss: 0.8983 - acc: 0.6786 - val_loss: 0.9549 - val_acc: 0.6636\n",
      "Epoch 7/12\n",
      "45000/45000 [==============================] - 128s - loss: 0.8378 - acc: 0.7012 - val_loss: 0.9521 - val_acc: 0.6724\n",
      "Epoch 8/12\n",
      "45000/45000 [==============================] - 128s - loss: 0.7805 - acc: 0.7221 - val_loss: 0.9375 - val_acc: 0.6836\n",
      "Epoch 9/12\n",
      "45000/45000 [==============================] - 127s - loss: 0.7198 - acc: 0.7410 - val_loss: 0.9941 - val_acc: 0.6740\n",
      "Epoch 10/12\n",
      "45000/45000 [==============================] - 128s - loss: 0.6781 - acc: 0.7574 - val_loss: 0.9411 - val_acc: 0.6814\n",
      "Epoch 11/12\n",
      "45000/45000 [==============================] - 128s - loss: 0.6312 - acc: 0.7741 - val_loss: 0.9666 - val_acc: 0.6822\n",
      "Epoch 12/12\n",
      "45000/45000 [==============================] - 128s - loss: 0.5937 - acc: 0.7868 - val_loss: 0.9634 - val_acc: 0.6846\n"
     ]
    }
   ],
   "source": [
    "_ = model_new_2.fit(X_train, y_train_ohe, \n",
    "              nb_epoch = 12, \n",
    "              batch_size = 10, \n",
    "              verbose = True, # turn this on to visualize progress \n",
    "              validation_split = 0.1 # 10% of training data for validation per epoch\n",
    "             )"
   ]
  },
  {
   "cell_type": "markdown",
   "metadata": {},
   "source": [
    "## (I got one more model below, that is the best I can get)"
   ]
  },
  {
   "cell_type": "code",
   "execution_count": 42,
   "metadata": {
    "collapsed": false
   },
   "outputs": [
    {
     "name": "stdout",
     "output_type": "stream",
     "text": [
      "First few predictions:  [6 9 9]\n",
      "Training accuracy: 0.87436\n",
      "Test accuracy: 0.6652\n"
     ]
    }
   ],
   "source": [
    "y_train_pred = model_new_2.predict_classes(X_train, verbose=False)\n",
    "print('First few predictions: ', y_train_pred[:3])\n",
    "train_acc = accuracy_score(y_train, y_train_pred)\n",
    "print('Training accuracy:', train_acc)\n",
    "\n",
    "y_test_pred = model_new_2.predict_classes(X_test, verbose=False)\n",
    "test_acc = accuracy_score(y_test, y_test_pred)\n",
    "print('Test accuracy:', test_acc)"
   ]
  },
  {
   "cell_type": "code",
   "execution_count": 43,
   "metadata": {
    "collapsed": false
   },
   "outputs": [
    {
     "name": "stdout",
     "output_type": "stream",
     "text": [
      "(50000, 32, 32, 3)\n",
      "(50000, 3, 32, 32)\n"
     ]
    }
   ],
   "source": [
    "# your code and experimental results\n",
    "from keras.constraints import maxnorm\n",
    "import theano\n",
    "from keras.layers import Dense, Dropout, Activation, Flatten, Reshape\n",
    "#theano.config.openmp = True\n",
    "\n",
    "# re-load data set, don't change the shape (same code as given)\n",
    "(X_train, y_train), (X_test, y_test) = cifar10.load_data()\n",
    "print (X_train.shape)\n",
    "\n",
    "\n",
    "img_shape = X_train.shape[1:] # [num_rows, num_cols, num_channels]\n",
    "num_img_pixels = np.prod(img_shape)\n",
    "num_training_samples = X_train.shape[0]\n",
    "num_test_samples = X_test.shape[0]\n",
    "\n",
    "nb_classes = np.sum(np.unique(y_train).shape)\n",
    "\n",
    "#print('image shape: ', img_shape)\n",
    "#print(X_train.shape[0], 'training samples')\n",
    "#print(X_test.shape[0], 'test samples')\n",
    "#print(nb_classes, 'classes')\n",
    "\n",
    "# data processing\n",
    "\n",
    "#X_train = X_train.reshape(num_training_samples, num_img_pixels)\n",
    "#X_test = X_test.reshape(num_test_samples, num_img_pixels)\n",
    "\n",
    "\n",
    "#transpose the data to the convolution input need \n",
    "#don't know whether there are smarter way \n",
    "#(like change the input parameter so that it can take other foramt of input) \n",
    "#just following the tutorial and use the same input format\n",
    "X_train=X_train.transpose(0, 3, 1, 2)\n",
    "X_test=X_test.transpose(0, 3, 1, 2)\n",
    "print(X_train.shape)\n",
    "\n",
    "\n",
    "\n",
    "X_train = X_train.astype('float32')\n",
    "X_test = X_test.astype('float32')\n",
    "X_train /= 255\n",
    "X_test /= 255\n",
    "\n",
    "# one hot encoding of labels\n",
    "y_train_ohe = np_utils.to_categorical(y_train)\n",
    "y_test_ohe = np_utils.to_categorical(y_test)\n",
    "\n",
    "\n",
    "model_new_3 = Sequential()\n",
    "model_new_3.add(Convolution2D(32, 3, 3, input_shape=(3, 32, 32), dim_ordering='th', border_mode='same', activation='relu', W_constraint=maxnorm(3)))\n",
    "model_new_3.add(MaxPooling2D(pool_size=(2, 2)))\n",
    "model_new_3.add(Dropout(0.2))\n",
    "\n",
    "model_new_3.add(Convolution2D(32, 3, 3, activation='relu',dim_ordering='th', border_mode='same', W_constraint=maxnorm(3)))\n",
    "model_new_3.add(MaxPooling2D(pool_size=(2, 2)))\n",
    "model_new_3.add(Dropout(0.3))\n",
    "\n",
    "model_new_3.add(Flatten())\n",
    "model_new_3.add(Dense(3*16*16, activation='relu', W_constraint=maxnorm(3)))\n",
    "model_new_3.add(Dropout(0.2))\n",
    "model_new_3.add(Reshape((3, 16, 16)))\n",
    "\n",
    "\n",
    "model_new_3.add(Convolution2D(32, 3, 3, activation='relu', dim_ordering='th', border_mode='same', W_constraint=maxnorm(3)))\n",
    "model_new_3.add(MaxPooling2D(pool_size=(2, 2)))\n",
    "model_new_3.add(Dropout(0.2))    \n",
    "\n",
    "\n",
    "model_new_3.add(Flatten())\n",
    "    \n",
    "\n",
    "\n",
    "model_new_3.add(Dense(nb_classes, activation='softmax'))\n",
    "\n",
    "epochs = 25\n",
    "learning_rate = 0.01\n",
    "decay = learning_rate/epochs\n",
    "\n",
    "\n",
    "sgd = SGD(lr=learning_rate, momentum=0.9, decay=decay, nesterov=False)\n",
    "model_new_3.compile(loss = 'categorical_crossentropy', \n",
    "              optimizer = sgd, \n",
    "              metrics = [\"accuracy\"])\n",
    "\n",
    "#print(model_new.summary())"
   ]
  },
  {
   "cell_type": "code",
   "execution_count": 44,
   "metadata": {
    "collapsed": false
   },
   "outputs": [
    {
     "name": "stdout",
     "output_type": "stream",
     "text": [
      "Train on 45000 samples, validate on 5000 samples\n",
      "Epoch 1/15\n",
      "45000/45000 [==============================] - 128s - loss: 1.8262 - acc: 0.3297 - val_loss: 1.4226 - val_acc: 0.4890\n",
      "Epoch 2/15\n",
      "45000/45000 [==============================] - 128s - loss: 1.4126 - acc: 0.4875 - val_loss: 1.2731 - val_acc: 0.5632\n",
      "Epoch 3/15\n",
      "45000/45000 [==============================] - 128s - loss: 1.2508 - acc: 0.5478 - val_loss: 1.1477 - val_acc: 0.5952\n",
      "Epoch 4/15\n",
      "45000/45000 [==============================] - 128s - loss: 1.1489 - acc: 0.5894 - val_loss: 1.0468 - val_acc: 0.6264\n",
      "Epoch 5/15\n",
      "45000/45000 [==============================] - 128s - loss: 1.0669 - acc: 0.6163 - val_loss: 1.0573 - val_acc: 0.6278\n",
      "Epoch 6/15\n",
      "45000/45000 [==============================] - 128s - loss: 1.0057 - acc: 0.6411 - val_loss: 1.0033 - val_acc: 0.6498\n",
      "Epoch 7/15\n",
      "45000/45000 [==============================] - 128s - loss: 0.9563 - acc: 0.6581 - val_loss: 0.9670 - val_acc: 0.6606\n",
      "Epoch 8/15\n",
      "45000/45000 [==============================] - 129s - loss: 0.9078 - acc: 0.6758 - val_loss: 0.9670 - val_acc: 0.6616\n",
      "Epoch 9/15\n",
      "45000/45000 [==============================] - 128s - loss: 0.8693 - acc: 0.6900 - val_loss: 0.9471 - val_acc: 0.6738\n",
      "Epoch 10/15\n",
      "45000/45000 [==============================] - 128s - loss: 0.8295 - acc: 0.7046 - val_loss: 0.9061 - val_acc: 0.6814\n",
      "Epoch 11/15\n",
      "45000/45000 [==============================] - 128s - loss: 0.8000 - acc: 0.7141 - val_loss: 0.9075 - val_acc: 0.6858\n",
      "Epoch 12/15\n",
      "45000/45000 [==============================] - 129s - loss: 0.7727 - acc: 0.7247 - val_loss: 0.9010 - val_acc: 0.6900\n",
      "Epoch 13/15\n",
      "45000/45000 [==============================] - 129s - loss: 0.7445 - acc: 0.7335 - val_loss: 0.8832 - val_acc: 0.6970\n",
      "Epoch 14/15\n",
      "45000/45000 [==============================] - 129s - loss: 0.7170 - acc: 0.7431 - val_loss: 0.8947 - val_acc: 0.6900\n",
      "Epoch 15/15\n",
      "45000/45000 [==============================] - 129s - loss: 0.6977 - acc: 0.7525 - val_loss: 0.8965 - val_acc: 0.6930\n"
     ]
    }
   ],
   "source": [
    "_ = model_new_3.fit(X_train, y_train_ohe, \n",
    "              nb_epoch = 15, \n",
    "              batch_size = 10, \n",
    "              verbose = True, # turn this on to visualize progress \n",
    "              validation_split = 0.1 # 10% of training data for validation per epoch\n",
    "             )"
   ]
  },
  {
   "cell_type": "code",
   "execution_count": 45,
   "metadata": {
    "collapsed": false
   },
   "outputs": [
    {
     "name": "stdout",
     "output_type": "stream",
     "text": [
      "First few predictions:  [6 9 9]\n",
      "Training accuracy: 0.8317\n",
      "Test accuracy: 0.6662\n"
     ]
    }
   ],
   "source": [
    "y_train_pred = model_new_3.predict_classes(X_train, verbose=False)\n",
    "print('First few predictions: ', y_train_pred[:3])\n",
    "train_acc = accuracy_score(y_train, y_train_pred)\n",
    "print('Training accuracy:', train_acc)\n",
    "\n",
    "y_test_pred = model_new_3.predict_classes(X_test, verbose=False)\n",
    "test_acc = accuracy_score(y_test, y_test_pred)\n",
    "print('Test accuracy:', test_acc)"
   ]
  },
  {
   "cell_type": "markdown",
   "metadata": {
    "slideshow": {
     "slide_type": "fragment"
    }
   },
   "source": [
    "## Your description\n",
    "with the following main parts:\n",
    "\n",
    "<dl>\n",
    "\n",
    "<dt>Introduction</dt>\n",
    "<dd>\n",
    "At a high-level, what are the approaches you considered and why?\n",
    "</dd>\n",
    "\n",
    "<dt>Method</dt>\n",
    "<dd>\n",
    "Describe your entire pipeline, such as data-preprocessing, model selection, and hyper-parameter optpimization.\n",
    "</dd>\n",
    "\n",
    "<dt>Results</dt>\n",
    "<dd>\n",
    "Describe the experimental process you took to arrive at the solution.\n",
    "For example:\n",
    "(1) compare your approach against other approach(es) you have tried, as\n",
    "well as the MLP baseline classifer.\n",
    "(2) compare against different settings of model parameters, e.g. regularization type/strength, number of hidden units or structure of a neural network, types of kernel in a SVM, etc. \n",
    "\n",
    "<dt>Conclusion</dt>\n",
    "<dd>\n",
    "Summarize what you have learned from the experiments and discuss the limitations and potential future improvements of your current method.\n",
    "</dd>\n",
    "\n",
    "<dt>References</dt>\n",
    "<dd>\n",
    "Cite any publically available code, blog posts, research papers, etc. you used or got ideas from.\n",
    "</dl>\n",
    "        First few predictions:  [6 9 9]\n",
    "        Training accuracy: 0.91506\n",
    "        Test accuracy: 0.6578"
   ]
  },
  {
   "cell_type": "markdown",
   "metadata": {},
   "source": [
    "## Answer\n",
    "\n",
    "### Introduction\n",
    "\n",
    "*(At a high-level, what are the approaches you considered and why?)*\n",
    "\n",
    "\n",
    "Because it is an image recognition job, I first think of CNN. And then I learnt it through one Youtube video. (See \n",
    "\n",
    "\n",
    "1. The convolution layers (filtering) can extract features out. (What I have learnt in the *traditional* computer vision class). \n",
    "\n",
    "2. Pooling layers can help me to reduce the dimension with the output of convolution. \n",
    "\n",
    "3. The ReLu layers can help to normalize the output. \n",
    "\n",
    "4. The fully connected layer (dense First few predictions:   can help me to do the voting.\n",
    "\n",
    "5. Dropout layer can help me to prevent from overfitting. \n",
    "\n",
    "### Method\n",
    "\n",
    "I first use a Convolution layer to extract features, and then I use a pooling layer to aggregate the results. \n",
    "\n",
    "After that, then flatten the result and add a fully connected layers to do some classification. \n",
    "\n",
    "Then, I reconstruct it back and add one more convolution to extract more features. \n",
    "\n",
    "At last, I use the fully connected layer to generate the output. \n",
    "\n",
    "rease the **filter size** to 9. \n",
    "\n",
    "### Result\n",
    "\n",
    "At first use \n",
    "\n",
    "2 * (Convolution layer + MaxPool) + Fully Connected Layer + (Convolution + MaxPool) + Fully Connected. \n",
    "Each convolution layer has 64 channel, filter size = 25\n",
    "MaxPool = 2 x 2\n",
    "First Fully connected extract 64 class. \n",
    "Second will categorize the 10 classes. \n",
    "SGD: learning rate = 21\n",
    "Fit epoch = 5\n",
    "\n",
    "Because of the long time it take for training, I didn't use the GridSearch method to exhaust all the parameters, I just manually tuned the hyper-parameters. \n",
    "\n",
    "\n",
    "I got the result\n",
    "\n",
    "        First few predictions:  [6 9 9]\n",
    "        Training accuracy: 0.70032\n",
    "        Test accuracy: 0.6055\n",
    "\n",
    "I found that the vallidation loss is still decreasing (validation accuracy is still increasing), no converge, so I **increase the epoch from 5 to 10**. \n",
    "\n",
    "\n",
    "And then I got the result\n",
    "\n",
    "        First few predictions:  [6 9 9]\n",
    "        Training accuracy: 0.83826\n",
    "        Test accuracy: 0.6139\n",
    "\n",
    "\n",
    "I found that I am overfitting, so I add a **dropout layer**. According to the paper [Dropout: A simple way to prevent Neural Networks from Overfitting](https://www.cs.toronto.edu/~hinton/absps/JMLRdropout.pdf)\n",
    "    \n",
    "        \n",
    "        First few predictions: [6 9 9]\n",
    "        Training accuracy: 0.84944\n",
    "        Test accuracy: 0.6278in Keras)\n",
    "\n",
    "Still **overfitting**, so I decrese the complexity of the model, decrease the **channel** of the convolution for *several times*. I got the result \n",
    "\n",
    "        First few predictions:  [6 9 9]\n",
    "        Training accuracy: 0.88094\n",
    "        Test accuracy: 0.6447\n",
    "        \n",
    "        \n",
    "Still, and I decrease the **filter size** to 9. \n",
    "\n",
    "        First few predictions:  [6 9 9]\n",
    "        Training accuracy: 0.91506\n",
    "        Test accuracy: 0.6578\n",
    "        \n",
    "        \n",
    "        First few predictions:  [6 9 9]\n",
    "\n",
    "And then, add more dorpout. That is my final result.\n",
    "        First few predictions:  [6 9 9]\n",
    "        Training accuracy: 0.8317\n",
    "        Test accuracy: 0.6662\n",
    "\n",
    "### Conclusion\n",
    "\n",
    "I have got a deeper understanding about the CNN after attempting to finish this homework. Specifically:\n",
    "\n",
    "1. The basic idea about what each layers are responsible for what tasks. \n",
    "\n",
    "2. Basic structuers of CNN and basic understandings of Keras. \n",
    "\n",
    "3. Don't use too complex model to deal with simple problems. That wil cause overfitting. \n",
    "\n",
    "4. Ways to dealing with Overfitting: **dropout** and **simplify models**.\n",
    "\n",
    "\n",
    "### Reference\n",
    "http://machinelearningmastery.com/object-recognition-convolutional-neural-networks-keras-deep-learning-library/\n",
    "https://medium.com/@ageitgey/machine-learning-is-fun-part-3-deep-learning-and-convolutional-neural-networks-f40359318721#.kazk6h3lm\n",
    "https://en.wikipedia.org/wiki/Convolutional_neural_network#Pooling_layerhttps://blog.rescale.com/neural-networks-using-keras-on-rescale/\n",
    "https://en.wikipedia.org/wiki/Convolutional_neural_network#Pooling_layer\n",
    "https://www.youtube.com/watch?v=FmpDIaiMIeA\n",
    "http://www.cs.toronto.edu/~rsalakhu/papers/srivastava14a.pdf\n",
    "https://www.cs.toronto.edu/~hinton/absps/JMLRdropout.pdf"
   ]
  },
  {
   "cell_type": "markdown",
   "metadata": {
    "collapsed": true
   },
   "source": [
    "## Appendix\n",
    "Some raw data of the output. \n",
    "I didn't turn on the verbose at the begining. I forgot to copy down all the results while tuning the -\n",
    "\n",
    "\n",
    "        Train on 45000 samples, validate on 5000 samples\n",
    "        Epoch 1/10\n",
    "        45000/45000 [==============================] - 146s - loss: 1.9118 - acc: 0.2852 - val_loss: 1.5079 - val_acc: 0.4466\n",
    "        Epoch 2/10\n",
    "        45000/45000 [==============================] - 146s - loss: 1.4426 - acc: 0.4727 - val_loss: 1.3534 - val_acc: 0.5130\n",
    "        Epoch 3/10\n",
    "        45000/45000 [==============================] - 147s - loss: 1.2539 - acc: 0.5470 - val_loss: 1.1939 - val_acc: 0.5674\n",
    "        Epoch 4/10\n",
    "        45000/45000 [==============================] - 147s - loss: 1.1181 - acc: 0.6022 - val_loss: 1.1193 - val_acc: 0.6050\n",
    "        Epoch 5/10\n",
    "        45000/45000 [==============================] - 146s - loss: 1.0100 - acc: 0.6380 - val_loss: 1.0879 - val_acc: 0.6180\n",
    "        Epoch 6/10\n",
    "        45000/45000 [==============================] - 147s - loss: 0.9034 - acc: 0.6774 - val_loss: 1.0509 - val_acc: 0.6332\n",
    "        Epoch 7/10\n",
    "        45000/45000 [==============================] - 146s - loss: 0.8056 - acc: 0.7131 - val_loss: 1.0985 - val_acc: 0.6304\n",
    "        Epoch 8/10\n",
    "        45000/45000 [==============================] - 147s - loss: 0.7190 - acc: 0.7436 - val_loss: 1.1067 - val_acc: 0.6412\n",
    "        Epoch 9/10\n",
    "        45000/45000 [==============================] - 147s - loss: 0.6356 - acc: 0.7723 - val_loss: 1.1112 - val_acc: 0.6382\n",
    "        Epoch 10/10\n",
    "        45000/45000 [==============================] - 147s - loss: 0.5549 - acc: 0.8020 - val_loss: 1.1687 - val_acc: 0.6438\n",
    "\n",
    "\n",
    "        Epoch 1/10\n",
    "        45000/45000 [==============================] - 172s - loss: 1.7372 - acc: 0.3611 - val_loss: 1.3906 - val_acc: 0.4900\n",
    "        Epoch 2/10\n",
    "        45000/45000 [==============================] - 172s - loss: 1.3514 - acc: 0.5138 - val_loss: 1.2382 - val_acc: 0.5522\n",
    "        Epoch 3/10\n",
    "        45000/45000 [==============================] - 172s - loss: 1.1611 - acc: 0.5833 - val_loss: 1.1390 - val_acc: 0.5956\n",
    "        Epoch 4/10\n",
    "        45000/45000 [==============================] - 175s - loss: 1.0144 - acc: 0.6355 - val_loss: 1.0701 - val_acc: 0.6262\n",
    "        Epoch 5/10\n",
    "        45000/45000 [==============================] - 176s - loss: 0.8917 - acc: 0.6813 - val_loss: 1.0320 - val_acc: 0.6402\n",
    "        Epoch 6/10\n",
    "        45000/45000 [==============================] - 175s - loss: 0.7840 - acc: 0.7207 - val_loss: 1.0194 - val_acc: 0.6492\n",
    "        Epoch 7/10\n",
    "        45000/45000 [==============================] - 176s - loss: 0.6802 - acc: 0.7566 - val_loss: 1.0273 - val_acc: 0.6550\n",
    "        Epoch 8/10\n",
    "        45000/45000 [==============================] - 176s - loss: 0.5918 - acc: 0.7912 - val_loss: 1.0525 - val_acc: 0.6672\n",
    "        Epoch 9/10\n",
    "        45000/45000 [==============================] - 177s - loss: 0.5121 - acc: 0.8167 - val_loss: 1.0617 - val_acc: 0.6638\n",
    "        Epoch 10/10\n",
    "        45000/45000 [==============================] - 177s - loss: 0.4385 - acc: 0.8435 - val_loss: 1.1282 - val_acc: 0.6660"
   ]
  },
  {
   "cell_type": "code",
   "execution_count": null,
   "metadata": {
    "collapsed": true
   },
   "outputs": [],
   "source": []
  }
 ],
 "metadata": {
  "anaconda-cloud": {},
  "celltoolbar": "Slideshow",
  "kernelspec": {
   "display_name": "Python [conda root]",
   "language": "python",
   "name": "conda-root-py"
  },
  "language_info": {
   "codemirror_mode": {
    "name": "ipython",
    "version": 3
   },
   "file_extension": ".py",
   "mimetype": "text/x-python",
   "name": "python",
   "nbconvert_exporter": "python",
   "pygments_lexer": "ipython3",
   "version": "3.5.2"
  },
  "name": "_merged"
 },
 "nbformat": 4,
 "nbformat_minor": 0
}
